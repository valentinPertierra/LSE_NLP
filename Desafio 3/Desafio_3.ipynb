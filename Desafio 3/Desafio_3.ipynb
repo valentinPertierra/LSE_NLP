{
 "cells": [
  {
   "cell_type": "markdown",
   "metadata": {
    "id": "g3yeJGnCYxuF"
   },
   "source": [
    "<img src=\"https://github.com/hernancontigiani/ceia_memorias_especializacion/raw/master/Figures/logoFIUBA.jpg\" width=\"500\" align=\"center\">\n",
    "\n",
    "\n",
    "# Procesamiento de lenguaje natural\n",
    "## Desafio N°3\n",
    "## Modelo de lenguaje con tokenización por caracteres\n",
    "\n",
    "Valentín Pertierra\n",
    "\n"
   ]
  },
  {
   "cell_type": "markdown",
   "metadata": {
    "id": "Iv5PEwGzZA9-"
   },
   "source": [
    "### Consigna\n",
    "- Seleccionar un corpus de texto sobre el cual entrenar el modelo de lenguaje.\n",
    "- Realizar el pre-procesamiento adecuado para tokenizar el corpus, estructurar el dataset y separar entre datos de entrenamiento y validación.\n",
    "- Proponer arquitecturas de redes neuronales basadas en unidades recurrentes para implementar un modelo de lenguaje.\n",
    "- Con el o los modelos que consideren adecuados, generar nuevas secuencias a partir de secuencias de contexto con las estrategias de greedy search y beam search determístico y estocástico. En este último caso observar el efecto de la temperatura en la generación de secuencias.\n",
    "\n",
    "\n",
    "### Sugerencias\n",
    "- Durante el entrenamiento, guiarse por el descenso de la perplejidad en los datos de validación para finalizar el entrenamiento. Para ello se provee un callback.\n",
    "- Explorar utilizar SimpleRNN (celda de Elman), LSTM y GRU.\n",
    "- rmsprop es el optimizador recomendado para la buena convergencia. No obstante se pueden explorar otros.\n"
   ]
  },
  {
   "cell_type": "code",
   "execution_count": 1,
   "metadata": {
    "id": "Y-QdFbHZYj7C"
   },
   "outputs": [],
   "source": [
    "import random\n",
    "import io\n",
    "import pickle\n",
    "\n",
    "import numpy as np\n",
    "import pandas as pd\n",
    "import matplotlib.pyplot as plt\n",
    "from sklearn.model_selection import train_test_split\n",
    "\n",
    "from tensorflow import keras\n",
    "from tensorflow.keras import layers\n",
    "from keras.utils import to_categorical\n",
    "from keras.models import Sequential\n",
    "from keras.layers import Dense, LSTM, Embedding, Dropout\n",
    "from tensorflow.keras.losses import SparseCategoricalCrossentropy\n",
    "\n",
    "import matplotlib.pyplot as plt\n",
    "import seaborn as sns"
   ]
  },
  {
   "cell_type": "code",
   "execution_count": 2,
   "metadata": {
    "colab": {
     "base_uri": "https://localhost:8080/"
    },
    "id": "wToIE3i8wtTz",
    "outputId": "2360676f-ae86-4620-80df-298cbe9e6946"
   },
   "outputs": [
    {
     "name": "stdout",
     "output_type": "stream",
     "text": [
      "Requirement already satisfied: ebooklib in c:\\users\\dell\\appdata\\local\\programs\\python\\python310\\lib\\site-packages (0.18)\n",
      "Requirement already satisfied: lxml in c:\\users\\dell\\appdata\\local\\programs\\python\\python310\\lib\\site-packages (from ebooklib) (5.3.0)\n",
      "Requirement already satisfied: six in c:\\users\\dell\\appdata\\local\\programs\\python\\python310\\lib\\site-packages (from ebooklib) (1.16.0)\n"
     ]
    },
    {
     "name": "stderr",
     "output_type": "stream",
     "text": [
      "\n",
      "[notice] A new release of pip is available: 24.0 -> 24.2\n",
      "[notice] To update, run: python.exe -m pip install --upgrade pip\n"
     ]
    },
    {
     "name": "stdout",
     "output_type": "stream",
     "text": [
      "Requirement already satisfied: beautifulsoup4 in c:\\users\\dell\\appdata\\local\\programs\\python\\python310\\lib\\site-packages (4.11.1)\n",
      "Requirement already satisfied: lxml in c:\\users\\dell\\appdata\\local\\programs\\python\\python310\\lib\\site-packages (5.3.0)\n",
      "Requirement already satisfied: soupsieve>1.2 in c:\\users\\dell\\appdata\\local\\programs\\python\\python310\\lib\\site-packages (from beautifulsoup4) (2.3.2.post1)\n"
     ]
    },
    {
     "name": "stderr",
     "output_type": "stream",
     "text": [
      "\n",
      "[notice] A new release of pip is available: 24.0 -> 24.2\n",
      "[notice] To update, run: python.exe -m pip install --upgrade pip\n"
     ]
    }
   ],
   "source": [
    "!pip install ebooklib\n",
    "!pip install beautifulsoup4 lxml"
   ]
  },
  {
   "cell_type": "markdown",
   "metadata": {
    "id": "xTvXlEKQZdqx"
   },
   "source": [
    "### Datos\n",
    "Se utilizara como dataset el libro de \"El señor de los anillos\"."
   ]
  },
  {
   "cell_type": "code",
   "execution_count": 3,
   "metadata": {
    "colab": {
     "base_uri": "https://localhost:8080/"
    },
    "id": "b-IBEzTQuqfQ",
    "outputId": "3017bfe1-6430-456d-91ac-c234c25c799d"
   },
   "outputs": [
    {
     "name": "stdout",
     "output_type": "stream",
     "text": [
      "El dataset ya se encuentra descargado\n"
     ]
    },
    {
     "name": "stderr",
     "output_type": "stream",
     "text": [
      "C:\\Users\\DELL\\AppData\\Local\\Programs\\Python\\Python310\\lib\\site-packages\\ebooklib\\epub.py:1395: UserWarning: In the future version we will turn default option ignore_ncx to True.\n",
      "  warnings.warn('In the future version we will turn default option ignore_ncx to True.')\n",
      "C:\\Users\\DELL\\AppData\\Local\\Programs\\Python\\Python310\\lib\\site-packages\\ebooklib\\epub.py:1423: FutureWarning: This search incorrectly ignores the root element, and will be fixed in a future version.  If you rely on the current behaviour, change it to './/xmlns:rootfile[@media-type]'\n",
      "  for root_file in tree.findall('//xmlns:rootfile[@media-type]', namespaces={'xmlns': NAMESPACES['CONTAINERNS']}):\n"
     ]
    }
   ],
   "source": [
    "import platform\n",
    "import os\n",
    "from ebooklib import epub, ITEM_DOCUMENT\n",
    "from bs4 import BeautifulSoup\n",
    "\n",
    "if os.access('El Señor de los Anillos.epub', os.F_OK) is False:\n",
    "    if platform.system() == 'Windows':\n",
    "        !curl https://raw.githubusercontent.com/valentinPertierra/LSE_NLP/1ac532f1560c538b9e24b3771e14c5fed71146d9/Desafio%202/El%20Se%C3%B1or%20de%20los%20Anillos.epub -o LOTR.epub\n",
    "    else:\n",
    "        !wget LOTR.epub https://raw.githubusercontent.com/valentinPertierra/LSE_NLP/1ac532f1560c538b9e24b3771e14c5fed71146d9/Desafio%202/El%20Se%C3%B1or%20de%20los%20Anillos.epub\n",
    "else:\n",
    "    print(\"El dataset ya se encuentra descargado\")\n",
    "\n",
    "\n",
    "book = epub.read_epub('El Señor de los Anillos.epub')"
   ]
  },
  {
   "cell_type": "code",
   "execution_count": 4,
   "metadata": {
    "colab": {
     "base_uri": "https://localhost:8080/"
    },
    "id": "z5egnjDrxZe4",
    "outputId": "2e78d7df-29b8-47c2-d113-0f1726c38522"
   },
   "outputs": [
    {
     "name": "stdout",
     "output_type": "stream",
     "text": [
      "400000\n"
     ]
    }
   ],
   "source": [
    "# Obtengo el texto del epub\n",
    "article_text = ''\n",
    "\n",
    "for item in book.get_items():\n",
    "  if item.get_type() == ITEM_DOCUMENT:\n",
    "    content = item.get_content()\n",
    "    soup = BeautifulSoup(content, 'html.parser')\n",
    "    article_text += soup.get_text()\n",
    "\n",
    "# tranformo a minusculas\n",
    "article_text = article_text.lower()\n",
    "\n",
    "# elimino los salto de lineas\n",
    "article_text = article_text.replace('\\n','')\n",
    "\n",
    "# Reduzco el tamaño del corpus porque al momento del entrenamiento me quedo sin RAM\n",
    "article_text = article_text[0:400000]\n",
    "print(len(article_text))"
   ]
  },
  {
   "cell_type": "code",
   "execution_count": 5,
   "metadata": {
    "colab": {
     "base_uri": "https://localhost:8080/",
     "height": 140
    },
    "id": "WBE0sSYuB-E6",
    "outputId": "f4638efa-9208-43e7-f2d8-05acc064df37"
   },
   "outputs": [
    {
     "data": {
      "text/plain": [
       "'\\xa0el señor de los anillos es una novela, obra cumbre del escritor john ronald reuel tolkien, ambientada en un mundo fantástico llamado la tierra media hacia el final de su tercera edad. el título hace referencia a sauron, el señor oscuro de mordor, principal villano de la historia, creador del anillo único que utilizó para controlar el poder de los demás anillos. el señor de los anillos constituye la continuación de un libro anterior de tolkien, el hobbit, que cuenta la historia de cómo el anillo del poder pasa a las manos de bilbo bolsón, el tío de frodo bolsón. en un nivel más profundo, constituye la continuación de otro libro llamado el silmarillion, que habla de la creación de la tierra media y de todas las criaturas que en ella habitan, así como del primer señor oscuro, maestro de sauron, y de las luchas por los silmarils.el señor de los anillos narra las aventuras de un grupo de seres: (elfos, hobbits, enanos, humanos), que forman la comunidad del anillo en su intento por destruir'"
      ]
     },
     "execution_count": 5,
     "metadata": {},
     "output_type": "execute_result"
    }
   ],
   "source": [
    "# en article text se encuentra el texto de todo el libro\n",
    "article_text[:1000]"
   ]
  },
  {
   "cell_type": "markdown",
   "metadata": {
    "id": "cP1JdiOIKQWi"
   },
   "source": [
    "### Elegir el tamaño del contexto\n",
    "\n",
    "En este caso, como el modelo de lenguaje es por caracteres, todo un gran corpus\n",
    "de texto puede ser considerado un documento en sí mismo y el tamaño de contexto\n",
    "puede ser elegido con más libertad en comparación a un modelo de lenguaje tokenizado por palabras y dividido en documentos más acotados."
   ]
  },
  {
   "cell_type": "code",
   "execution_count": 6,
   "metadata": {
    "id": "wumBNwdjJM3j"
   },
   "outputs": [],
   "source": [
    "# seleccionamos el tamaño de contexto\n",
    "max_context_size = 100"
   ]
  },
  {
   "cell_type": "code",
   "execution_count": 7,
   "metadata": {
    "id": "m5FeTaGvbDbw"
   },
   "outputs": [],
   "source": [
    "# Usaremos las utilidades de procesamiento de textos y secuencias de Keras\n",
    "from tensorflow.keras.utils import pad_sequences # se utilizará para padding"
   ]
  },
  {
   "cell_type": "code",
   "execution_count": 8,
   "metadata": {
    "id": "573Cg5n7VhWw"
   },
   "outputs": [],
   "source": [
    "# en este caso el vocabulario es el conjunto único de caracteres que existe en todo el texto\n",
    "chars_vocab = set(article_text)"
   ]
  },
  {
   "cell_type": "code",
   "execution_count": 9,
   "metadata": {
    "colab": {
     "base_uri": "https://localhost:8080/"
    },
    "id": "ltEjYc0By-mL",
    "outputId": "fce967c8-8957-4f63-c830-afa71f4497ca"
   },
   "outputs": [
    {
     "name": "stdout",
     "output_type": "stream",
     "text": [
      "{'»', 'd', 'b', 'f', ']', '¿', 'n', 'i', 'o', 'w', '[', '0', 'g', 'y', '1', 'v', '5', 'x', 'c', '9', 'ü', 'í', \"'\", 'r', '7', 'p', '—', ',', '4', '8', ';', 'q', '\"', 'ñ', 'u', 'e', 't', 'l', 's', '\\xa0', 'j', '2', '3', '-', '¡', '6', 'ó', 'a', '(', 'z', ')', 'è', '\\r', '!', 'û', 'é', ' ', 'k', '«', ':', 'm', 'á', 'ú', '?', 'h', '.'}\n"
     ]
    }
   ],
   "source": [
    "print(chars_vocab)"
   ]
  },
  {
   "cell_type": "code",
   "execution_count": 10,
   "metadata": {
    "colab": {
     "base_uri": "https://localhost:8080/"
    },
    "id": "VwTK6xgLJd8q",
    "outputId": "ac48b5d1-0dcb-4d1f-ed71-c8e42ef42f7d"
   },
   "outputs": [
    {
     "data": {
      "text/plain": [
       "66"
      ]
     },
     "execution_count": 10,
     "metadata": {},
     "output_type": "execute_result"
    }
   ],
   "source": [
    "# la longitud de vocabulario de caracteres es:\n",
    "len(chars_vocab)"
   ]
  },
  {
   "cell_type": "code",
   "execution_count": 11,
   "metadata": {
    "id": "2W0AeQjXV1Ou"
   },
   "outputs": [],
   "source": [
    "# Construimos los dicionarios que asignan índices a caracteres y viceversa.\n",
    "# El diccionario `char2idx` servirá como tokenizador.\n",
    "char2idx = {k: v for v,k in enumerate(chars_vocab)}\n",
    "idx2char = {v: k for k,v in char2idx.items()}"
   ]
  },
  {
   "cell_type": "markdown",
   "metadata": {
    "id": "2oIUjVU0LB0r"
   },
   "source": [
    "###  Tokenizar"
   ]
  },
  {
   "cell_type": "code",
   "execution_count": 12,
   "metadata": {
    "id": "h07G3srdJppo"
   },
   "outputs": [],
   "source": [
    "# tokenizamos el texto completo\n",
    "tokenized_text = [char2idx[ch] for ch in article_text]"
   ]
  },
  {
   "cell_type": "code",
   "execution_count": 13,
   "metadata": {
    "colab": {
     "base_uri": "https://localhost:8080/"
    },
    "id": "PwGVSKOiJ5bj",
    "outputId": "f2215853-7880-41e9-f691-58ca9f330ed8"
   },
   "outputs": [
    {
     "data": {
      "text/plain": [
       "[39, 35, 37, 56, 38, 35, 33, 8, 23, 56]"
      ]
     },
     "execution_count": 13,
     "metadata": {},
     "output_type": "execute_result"
    }
   ],
   "source": [
    "tokenized_text[:10]"
   ]
  },
  {
   "cell_type": "markdown",
   "metadata": {
    "id": "pfpYcaypKcI9"
   },
   "source": [
    "### Organizando y estructurando el dataset"
   ]
  },
  {
   "cell_type": "code",
   "execution_count": 14,
   "metadata": {
    "id": "WSSmg9jtKP0T"
   },
   "outputs": [],
   "source": [
    "# separaremos el dataset entre entrenamiento y validación.\n",
    "# `p_val` será la proporción del corpus que se reservará para validación\n",
    "# `num_val` es la cantidad de secuencias de tamaño `max_context_size` que se usará en validación\n",
    "p_val = 0.1\n",
    "num_val = int(np.ceil(len(tokenized_text)*p_val/max_context_size))"
   ]
  },
  {
   "cell_type": "code",
   "execution_count": 15,
   "metadata": {
    "id": "b7dCpGrdKll0"
   },
   "outputs": [],
   "source": [
    "# separamos la porción de texto utilizada en entrenamiento de la de validación.\n",
    "train_text = tokenized_text[:-num_val*max_context_size]\n",
    "val_text = tokenized_text[-num_val*max_context_size:]"
   ]
  },
  {
   "cell_type": "code",
   "execution_count": 16,
   "metadata": {
    "id": "NmxQdxl8LRCg"
   },
   "outputs": [],
   "source": [
    "tokenized_sentences_val = [val_text[init*max_context_size:init*(max_context_size+1)] for init in range(num_val)]"
   ]
  },
  {
   "cell_type": "code",
   "execution_count": 17,
   "metadata": {
    "id": "_gyFT9koLqDm"
   },
   "outputs": [],
   "source": [
    "tokenized_sentences_train = [train_text[init:init+max_context_size] for init in range(len(train_text)-max_context_size+1)]"
   ]
  },
  {
   "cell_type": "code",
   "execution_count": 18,
   "metadata": {
    "id": "oVNqmmLRodT0"
   },
   "outputs": [],
   "source": [
    "X = np.array(tokenized_sentences_train[:-1])\n",
    "y = np.array(tokenized_sentences_train[1:])"
   ]
  },
  {
   "cell_type": "markdown",
   "metadata": {
    "id": "Vken7O4ETsAJ"
   },
   "source": [
    "Nótese que estamos estructurando el problema de aprendizaje como *many-to-many*:\n",
    "\n",
    "Entrada: secuencia de tokens [$x_0$, $x_1$, ..., $x_N$]\n",
    "\n",
    "Target: secuencia de tokens [$x_1$, $x_2$, ..., $x_{N+1}$]\n",
    "\n",
    "De manera que la red tiene que aprender que su salida deben ser los tokens desplazados en una posición y un nuevo token predicho (el N+1).\n",
    "\n",
    "La ventaja de estructurar el aprendizaje de esta manera es que para cada token de target se propaga una señal de gradiente por el grafo de cómputo recurrente, que es mejor que estructurar el problema como *many-to-one* en donde sólo una señal de gradiente se propaga."
   ]
  },
  {
   "cell_type": "markdown",
   "metadata": {
    "id": "l3iPTx-UJl6r"
   },
   "source": [
    "En este punto tenemos en la variable `tokenized_sentences` los versos tokenizados. Vamos a quedarnos con un conjunto de validación que utilizaremos para medir la calidad de la generación de secuencias con la métrica de Perplejidad."
   ]
  },
  {
   "cell_type": "code",
   "execution_count": 19,
   "metadata": {
    "colab": {
     "base_uri": "https://localhost:8080/"
    },
    "id": "KFAyA4zCWE-5",
    "outputId": "ddf9e1f5-69a0-4265-dbb2-19b8a2bc00c4"
   },
   "outputs": [
    {
     "data": {
      "text/plain": [
       "(359900, 100)"
      ]
     },
     "execution_count": 19,
     "metadata": {},
     "output_type": "execute_result"
    }
   ],
   "source": [
    "X.shape"
   ]
  },
  {
   "cell_type": "code",
   "execution_count": 20,
   "metadata": {
    "colab": {
     "base_uri": "https://localhost:8080/"
    },
    "id": "qcKRl70HFTzG",
    "outputId": "96642dd4-9ed7-4c91-ae6c-5937c7987492"
   },
   "outputs": [
    {
     "data": {
      "text/plain": [
       "array([39, 35, 37, 56, 38, 35, 33,  8, 23, 56])"
      ]
     },
     "execution_count": 20,
     "metadata": {},
     "output_type": "execute_result"
    }
   ],
   "source": [
    "X[0,:10]"
   ]
  },
  {
   "cell_type": "code",
   "execution_count": 21,
   "metadata": {
    "colab": {
     "base_uri": "https://localhost:8080/"
    },
    "id": "TVpLCKSZFXZO",
    "outputId": "3c3f044e-c7aa-4af3-e79a-a73c9da3f6d4"
   },
   "outputs": [
    {
     "data": {
      "text/plain": [
       "array([35, 37, 56, 38, 35, 33,  8, 23, 56,  1])"
      ]
     },
     "execution_count": 21,
     "metadata": {},
     "output_type": "execute_result"
    }
   ],
   "source": [
    "y[0,:10]"
   ]
  },
  {
   "cell_type": "code",
   "execution_count": 22,
   "metadata": {
    "id": "wOFCR-KqbW1N"
   },
   "outputs": [],
   "source": [
    "vocab_size = len(chars_vocab)"
   ]
  },
  {
   "cell_type": "markdown",
   "metadata": {
    "id": "tnnjdAQ5UAEJ"
   },
   "source": [
    "# Definiendo el modelo"
   ]
  },
  {
   "cell_type": "markdown",
   "metadata": {
    "id": "EL4iJf7B5lOx"
   },
   "source": [
    "Funcion de callback utilizada para el entrenamiento de todos los modelos"
   ]
  },
  {
   "cell_type": "markdown",
   "metadata": {
    "id": "YWK3z85sQfUe"
   },
   "source": [
    "Dado que por el momento no hay implementaciones adecuadas de la perplejidad que puedan operar en tiempo de entrenamiento, armaremos un Callback *ad-hoc* que la calcule en cada epoch.\n",
    "\n",
    "**Nota**: un Callback es una rutina gatillada por algún evento, son muy útiles para relevar datos en diferentes momentos del desarrollo del modelo. En este caso queremos hacer un cálculo cada vez que termina una epoch de entrenamiento."
   ]
  },
  {
   "cell_type": "code",
   "execution_count": 23,
   "metadata": {
    "id": "zUHX3r5JD-MG"
   },
   "outputs": [],
   "source": [
    "class PplCallback(keras.callbacks.Callback):\n",
    "\n",
    "    '''\n",
    "    Este callback es una solución ad-hoc para calcular al final de cada epoch de\n",
    "    entrenamiento la métrica de Perplejidad sobre un conjunto de datos de validación.\n",
    "    La perplejidad es una métrica cuantitativa para evaluar la calidad de la generación de secuencias.\n",
    "    Además implementa la finalización del entrenamiento (Early Stopping)\n",
    "    si la perplejidad no mejora después de `patience` epochs.\n",
    "    '''\n",
    "\n",
    "    def __init__(self, val_data, history_ppl, patience=5, model_file='model.keras'):\n",
    "      # El callback lo inicializamos con secuencias de validación sobre las cuales\n",
    "      # mediremos la perplejidad\n",
    "      self.val_data = val_data\n",
    "\n",
    "      self.target = []\n",
    "      self.padded = []\n",
    "\n",
    "      count = 0\n",
    "      self.info = []\n",
    "      self.min_score = np.inf\n",
    "      self.patience_counter = 0\n",
    "      self.patience = patience\n",
    "      self.model_file = model_file\n",
    "      self.history_ppl = history_ppl\n",
    "\n",
    "      # nos movemos en todas las secuencias de los datos de validación\n",
    "      for seq in self.val_data:\n",
    "\n",
    "        len_seq = len(seq)\n",
    "        # armamos todas las subsecuencias\n",
    "        subseq = [seq[:i] for i in range(1,len_seq)]\n",
    "        self.target.extend([seq[i] for i in range(1,len_seq)])\n",
    "\n",
    "        if len(subseq)!=0:\n",
    "\n",
    "          self.padded.append(pad_sequences(subseq, maxlen=max_context_size, padding='pre'))\n",
    "\n",
    "          self.info.append((count,count+len_seq))\n",
    "          count += len_seq\n",
    "\n",
    "      self.padded = np.vstack(self.padded)\n",
    "\n",
    "\n",
    "    def on_epoch_end(self, epoch, logs=None):\n",
    "\n",
    "        # en `scores` iremos guardando la perplejidad de cada secuencia\n",
    "        scores = []\n",
    "\n",
    "        predictions = self.model.predict(self.padded,verbose=0)\n",
    "\n",
    "        # para cada secuencia de validación\n",
    "        for start,end in self.info:\n",
    "\n",
    "          # en `probs` iremos guardando las probabilidades de los términos target\n",
    "          probs = [predictions[idx_seq,-1,idx_vocab] for idx_seq, idx_vocab in zip(range(start,end),self.target[start:end])]\n",
    "\n",
    "          # calculamos la perplejidad por medio de logaritmos\n",
    "          scores.append(np.exp(-np.sum(np.log(probs))/(end-start)))\n",
    "\n",
    "        # promediamos todos los scores e imprimimos el valor promedio\n",
    "        current_score = np.mean(scores)\n",
    "        self.history_ppl.append(current_score)\n",
    "        print(f'\\n mean perplexity: {current_score} \\n')\n",
    "\n",
    "        # chequeamos si tenemos que detener el entrenamiento\n",
    "        if current_score < self.min_score:\n",
    "          self.min_score = current_score\n",
    "          self.model.save(self.model_file)\n",
    "          print(\"Saved new model!\")\n",
    "          self.patience_counter = 0\n",
    "        else:\n",
    "          self.patience_counter += 1\n",
    "          if self.patience_counter == self.patience:\n",
    "            print(\"Stopping training...\")\n",
    "            self.model.stop_training = True\n"
   ]
  },
  {
   "cell_type": "markdown",
   "metadata": {
    "id": "43W5TUsUz2vq"
   },
   "source": [
    "### Modelo SimpleRNN"
   ]
  },
  {
   "cell_type": "code",
   "execution_count": 24,
   "metadata": {
    "id": "rkMCZvmhrQz4"
   },
   "outputs": [],
   "source": [
    "from keras.layers import Input, TimeDistributed, CategoryEncoding, SimpleRNN, Dense\n",
    "from keras.models import Model, Sequential"
   ]
  },
  {
   "cell_type": "markdown",
   "metadata": {
    "id": "wgz7VKwTUbj6"
   },
   "source": [
    "El modelo que se propone como ejemplo consume los índices de los tokens y los transforma en vectores OHE (en este caso no entrenamos una capa de embedding para caracteres). Esa transformación se logra combinando las capas `CategoryEncoding` que transforma a índices a vectores OHE y `TimeDistributed` que aplica la capa a lo largo de la dimensión \"temporal\" de la secuencia."
   ]
  },
  {
   "cell_type": "code",
   "execution_count": 25,
   "metadata": {
    "colab": {
     "base_uri": "https://localhost:8080/",
     "height": 297
    },
    "id": "Zd2OkfQYs2Q7",
    "outputId": "33fc132f-69ca-40e7-b906-d8a374792a54"
   },
   "outputs": [
    {
     "name": "stdout",
     "output_type": "stream",
     "text": [
      "Model: \"sequential\"\n",
      "_________________________________________________________________\n",
      " Layer (type)                Output Shape              Param #   \n",
      "=================================================================\n",
      " time_distributed (TimeDistr  (None, None, 66)         0         \n",
      " ibuted)                                                         \n",
      "                                                                 \n",
      " simple_rnn (SimpleRNN)      (None, None, 200)         53400     \n",
      "                                                                 \n",
      " dense (Dense)               (None, None, 66)          13266     \n",
      "                                                                 \n",
      "=================================================================\n",
      "Total params: 66,666\n",
      "Trainable params: 66,666\n",
      "Non-trainable params: 0\n",
      "_________________________________________________________________\n"
     ]
    }
   ],
   "source": [
    "model = Sequential()\n",
    "\n",
    "model.add(TimeDistributed(CategoryEncoding(num_tokens=vocab_size, output_mode = \"one_hot\"),input_shape=(None,1)))\n",
    "model.add(SimpleRNN(200, return_sequences=True, dropout=0.1, recurrent_dropout=0.1 ))\n",
    "model.add(Dense(vocab_size, activation='softmax'))\n",
    "model.compile(loss='sparse_categorical_crossentropy', optimizer='rmsprop')\n",
    "\n",
    "model.summary()"
   ]
  },
  {
   "cell_type": "markdown",
   "metadata": {
    "id": "8HBZIwR0gruA"
   },
   "source": [
    "### Entrenamiento"
   ]
  },
  {
   "cell_type": "code",
   "execution_count": 28,
   "metadata": {
    "colab": {
     "base_uri": "https://localhost:8080/"
    },
    "id": "oQq1PHDkxDvN",
    "outputId": "f27e8b58-af73-4f36-dfc0-a7c81035a70c"
   },
   "outputs": [
    {
     "name": "stdout",
     "output_type": "stream",
     "text": [
      "Epoch 1/20\n",
      "1406/1406 [==============================] - ETA: 0s - loss: 2.1048\n",
      " mean perplexity: 5.926172505411678 \n",
      "\n",
      "Saved new model!\n",
      "1406/1406 [==============================] - 404s 286ms/step - loss: 2.1048\n",
      "Epoch 2/20\n",
      "1406/1406 [==============================] - ETA: 0s - loss: 1.7949\n",
      " mean perplexity: 5.232931253301031 \n",
      "\n",
      "Saved new model!\n",
      "1406/1406 [==============================] - 339s 241ms/step - loss: 1.7949\n",
      "Epoch 3/20\n",
      "1406/1406 [==============================] - ETA: 0s - loss: 1.7221\n",
      " mean perplexity: 5.119862172321304 \n",
      "\n",
      "Saved new model!\n",
      "1406/1406 [==============================] - 362s 258ms/step - loss: 1.7221\n",
      "Epoch 4/20\n",
      "1406/1406 [==============================] - ETA: 0s - loss: 1.6910\n",
      " mean perplexity: 5.119862409734423 \n",
      "\n",
      "1406/1406 [==============================] - 348s 247ms/step - loss: 1.6910\n",
      "Epoch 5/20\n",
      "1406/1406 [==============================] - ETA: 0s - loss: 1.6730\n",
      " mean perplexity: 5.014069480755751 \n",
      "\n",
      "Saved new model!\n",
      "1406/1406 [==============================] - 359s 255ms/step - loss: 1.6730\n",
      "Epoch 6/20\n",
      "1406/1406 [==============================] - ETA: 0s - loss: 1.6608\n",
      " mean perplexity: 5.17401145212252 \n",
      "\n",
      "1406/1406 [==============================] - 360s 256ms/step - loss: 1.6608\n",
      "Epoch 7/20\n",
      "1406/1406 [==============================] - ETA: 0s - loss: 1.6522\n",
      " mean perplexity: 4.804564117654015 \n",
      "\n",
      "Saved new model!\n",
      "1406/1406 [==============================] - 363s 258ms/step - loss: 1.6522\n",
      "Epoch 8/20\n",
      "1406/1406 [==============================] - ETA: 0s - loss: 1.6458\n",
      " mean perplexity: 5.201185795738997 \n",
      "\n",
      "1406/1406 [==============================] - 377s 268ms/step - loss: 1.6458\n",
      "Epoch 9/20\n",
      "1406/1406 [==============================] - ETA: 0s - loss: 1.6401\n",
      " mean perplexity: 4.920408026861755 \n",
      "\n",
      "1406/1406 [==============================] - 395s 281ms/step - loss: 1.6401\n",
      "Epoch 10/20\n",
      "1406/1406 [==============================] - ETA: 0s - loss: 1.6355\n",
      " mean perplexity: 5.085897497606252 \n",
      "\n",
      "1406/1406 [==============================] - 384s 273ms/step - loss: 1.6355\n",
      "Epoch 11/20\n",
      "1406/1406 [==============================] - ETA: 0s - loss: 1.6318\n",
      " mean perplexity: 5.042057176944658 \n",
      "\n",
      "1406/1406 [==============================] - 391s 278ms/step - loss: 1.6318\n",
      "Epoch 12/20\n",
      "1406/1406 [==============================] - ETA: 0s - loss: 1.6286\n",
      " mean perplexity: 4.84583452265182 \n",
      "\n",
      "Stopping training...\n",
      "1406/1406 [==============================] - 403s 286ms/step - loss: 1.6286\n"
     ]
    }
   ],
   "source": [
    "# fiteamos, nótese el agregado del callback con su inicialización. El batch_size lo podemos seleccionar a mano\n",
    "# en general, lo mejor es escoger el batch más grande posible que minimice el tiempo de cada época.\n",
    "# En la variable `history_ppl` se guardarán los valores de perplejidad para cada época.\n",
    "history_ppl = []\n",
    "srnn_model_file = 'srnn_model.keras'\n",
    "\n",
    "hist = model.fit(X, y, epochs=20, callbacks=[PplCallback(tokenized_sentences_val, history_ppl, model_file=srnn_model_file)], batch_size=256)"
   ]
  },
  {
   "cell_type": "code",
   "execution_count": 29,
   "metadata": {
    "colab": {
     "base_uri": "https://localhost:8080/",
     "height": 430
    },
    "id": "K30JHB3Dv-mx",
    "outputId": "60ff9e6b-b6ec-4b0d-90a2-73c1e753c2d8"
   },
   "outputs": [
    {
     "data": {
      "image/png": "[encoded data removed]",
      "text/plain": [
       "<Figure size 432x288 with 1 Axes>"
      ]
     },
     "metadata": {
      "needs_background": "light"
     },
     "output_type": "display_data"
    }
   ],
   "source": [
    "# Entrenamiento\n",
    "epoch_count = range(1, len(history_ppl) + 1)\n",
    "sns.lineplot(x=epoch_count,  y=history_ppl)\n",
    "plt.show()"
   ]
  },
  {
   "cell_type": "code",
   "execution_count": 30,
   "metadata": {
    "id": "cLEZTl6myZIF"
   },
   "outputs": [],
   "source": [
    "save = {\n",
    "    'ppl': history_ppl,\n",
    "    'char2idx': char2idx,\n",
    "    'idx2char': idx2char\n",
    "}\n",
    "\n",
    "with open('srnn.pkl', 'wb') as f:\n",
    "    pickle.dump(save, f)"
   ]
  },
  {
   "cell_type": "markdown",
   "metadata": {
    "id": "UHTM91Mt_jII"
   },
   "source": [
    "### Modelo LSTM"
   ]
  },
  {
   "cell_type": "code",
   "execution_count": 51,
   "metadata": {
    "colab": {
     "base_uri": "https://localhost:8080/",
     "height": 297
    },
    "id": "SI2wVAEz_qeU",
    "outputId": "b4b44bdc-6475-4f5d-9f0a-a149923b55b5"
   },
   "outputs": [
    {
     "name": "stdout",
     "output_type": "stream",
     "text": [
      "Model: \"sequential_1\"\n",
      "_________________________________________________________________\n",
      " Layer (type)                Output Shape              Param #   \n",
      "=================================================================\n",
      " time_distributed_1 (TimeDis  (None, None, 66)         0         \n",
      " tributed)                                                       \n",
      "                                                                 \n",
      " lstm (LSTM)                 (None, None, 200)         213600    \n",
      "                                                                 \n",
      " dense_1 (Dense)             (None, None, 66)          13266     \n",
      "                                                                 \n",
      "=================================================================\n",
      "Total params: 226,866\n",
      "Trainable params: 226,866\n",
      "Non-trainable params: 0\n",
      "_________________________________________________________________\n"
     ]
    }
   ],
   "source": [
    "\n",
    "model = Sequential()\n",
    "\n",
    "model.add(TimeDistributed(CategoryEncoding(num_tokens=vocab_size, output_mode=\"one_hot\"), input_shape=(None, 1)))\n",
    "model.add(LSTM(200, return_sequences=True, dropout=0.1, recurrent_dropout=0.1))\n",
    "model.add(Dense(vocab_size, activation='softmax'))\n",
    "model.compile(loss='sparse_categorical_crossentropy', optimizer='rmsprop')\n",
    "\n",
    "model.summary()\n"
   ]
  },
  {
   "cell_type": "code",
   "execution_count": 52,
   "metadata": {
    "colab": {
     "base_uri": "https://localhost:8080/"
    },
    "id": "AIXqQI6a_qoZ",
    "outputId": "89b33f57-ba87-4d79-fa19-51ebf953f46a",
    "scrolled": true
   },
   "outputs": [
    {
     "name": "stdout",
     "output_type": "stream",
     "text": [
      "Epoch 1/20\n",
      "1406/1406 [==============================] - ETA: 0s - loss: 2.1875\n",
      " mean perplexity: 6.069056337639225 \n",
      "\n",
      "Saved new model!\n",
      "1406/1406 [==============================] - 1948s 1s/step - loss: 2.1875\n",
      "Epoch 2/20\n",
      "1406/1406 [==============================] - ETA: 0s - loss: 1.6805\n",
      " mean perplexity: 5.042254206093638 \n",
      "\n",
      "Saved new model!\n",
      "1406/1406 [==============================] - 1946s 1s/step - loss: 1.6805\n",
      "Epoch 3/20\n",
      "1406/1406 [==============================] - ETA: 0s - loss: 1.4799\n",
      " mean perplexity: 4.936469155379826 \n",
      "\n",
      "Saved new model!\n",
      "1406/1406 [==============================] - 2012s 1s/step - loss: 1.4799\n",
      "Epoch 4/20\n",
      "1406/1406 [==============================] - ETA: 0s - loss: 1.3830\n",
      " mean perplexity: 4.569192830775887 \n",
      "\n",
      "Saved new model!\n",
      "1406/1406 [==============================] - 1913s 1s/step - loss: 1.3830\n",
      "Epoch 5/20\n",
      "1406/1406 [==============================] - ETA: 0s - loss: 1.3280\n",
      " mean perplexity: 4.721803819154409 \n",
      "\n",
      "1406/1406 [==============================] - 1911s 1s/step - loss: 1.3280\n",
      "Epoch 6/20\n",
      "1406/1406 [==============================] - ETA: 0s - loss: 1.2928\n",
      " mean perplexity: 4.8446109931009875 \n",
      "\n",
      "1406/1406 [==============================] - 1893s 1s/step - loss: 1.2928\n",
      "Epoch 7/20\n",
      "1406/1406 [==============================] - ETA: 0s - loss: 1.2682\n",
      " mean perplexity: 6.170026869083294 \n",
      "\n",
      "1406/1406 [==============================] - 1912s 1s/step - loss: 1.2682\n",
      "Epoch 8/20\n",
      "1406/1406 [==============================] - ETA: 0s - loss: 1.2500\n",
      " mean perplexity: 17.039120926707188 \n",
      "\n",
      "1406/1406 [==============================] - 1917s 1s/step - loss: 1.2500\n",
      "Epoch 9/20\n",
      "1406/1406 [==============================] - ETA: 0s - loss: 1.2361\n",
      " mean perplexity: 33.36744371121767 \n",
      "\n",
      "Stopping training...\n",
      "1406/1406 [==============================] - 1905s 1s/step - loss: 1.2361\n"
     ]
    }
   ],
   "source": [
    "history_lstm_ppl = []\n",
    "lstm_model_file = 'lstm_model.keras'\n",
    "\n",
    "hist = model.fit(X, y, epochs=20, callbacks=[PplCallback(tokenized_sentences_val, history_lstm_ppl, model_file=lstm_model_file)], batch_size=256)"
   ]
  },
  {
   "cell_type": "code",
   "execution_count": 53,
   "metadata": {
    "colab": {
     "base_uri": "https://localhost:8080/",
     "height": 430
    },
    "id": "Ks48Rlkd_qz3",
    "outputId": "ae5d6b19-5597-40e0-dbd4-6fe99e44432d"
   },
   "outputs": [
    {
     "data": {
      "image/png": "[encoded data removed]",
      "text/plain": [
       "<Figure size 432x288 with 1 Axes>"
      ]
     },
     "metadata": {
      "needs_background": "light"
     },
     "output_type": "display_data"
    }
   ],
   "source": [
    "# Entrenamiento\n",
    "epoch_count = range(1, len(history_lstm_ppl) + 1)\n",
    "sns.lineplot(x=epoch_count,  y=history_lstm_ppl)\n",
    "plt.show()"
   ]
  },
  {
   "cell_type": "code",
   "execution_count": 54,
   "metadata": {},
   "outputs": [],
   "source": [
    "save = {\n",
    "    'ppl': history_lstm_ppl,\n",
    "    'char2idx': char2idx,\n",
    "    'idx2char': idx2char\n",
    "}\n",
    "\n",
    "with open('lstm.pkl', 'wb') as f:\n",
    "    pickle.dump(save, f)"
   ]
  },
  {
   "cell_type": "markdown",
   "metadata": {
    "id": "FH38_dNVCxmw"
   },
   "source": [
    "### Modelo GRU"
   ]
  },
  {
   "cell_type": "code",
   "execution_count": 25,
   "metadata": {
    "id": "qcrOavj1C73X"
   },
   "outputs": [],
   "source": [
    "from keras.layers import GRU"
   ]
  },
  {
   "cell_type": "code",
   "execution_count": 26,
   "metadata": {
    "colab": {
     "base_uri": "https://localhost:8080/",
     "height": 280
    },
    "id": "sbUKEkvhC0Je",
    "outputId": "8dd4ff80-7648-4b85-e9e9-117d95b6de22"
   },
   "outputs": [
    {
     "name": "stdout",
     "output_type": "stream",
     "text": [
      "Model: \"sequential\"\n",
      "_________________________________________________________________\n",
      " Layer (type)                Output Shape              Param #   \n",
      "=================================================================\n",
      " time_distributed (TimeDistr  (None, None, 66)         0         \n",
      " ibuted)                                                         \n",
      "                                                                 \n",
      " gru (GRU)                   (None, None, 200)         160800    \n",
      "                                                                 \n",
      " dense (Dense)               (None, None, 66)          13266     \n",
      "                                                                 \n",
      "=================================================================\n",
      "Total params: 174,066\n",
      "Trainable params: 174,066\n",
      "Non-trainable params: 0\n",
      "_________________________________________________________________\n"
     ]
    }
   ],
   "source": [
    "\n",
    "gru_model = Sequential()\n",
    "\n",
    "gru_model.add(TimeDistributed(CategoryEncoding(num_tokens=vocab_size, output_mode=\"one_hot\"), input_shape=(None, 1)))\n",
    "gru_model.add(GRU(200, return_sequences=True, dropout=0.1, recurrent_dropout=0.1))\n",
    "gru_model.add(Dense(vocab_size, activation='softmax'))\n",
    "gru_model.compile(loss='sparse_categorical_crossentropy', optimizer='rmsprop')\n",
    "\n",
    "gru_model.summary()"
   ]
  },
  {
   "cell_type": "code",
   "execution_count": 27,
   "metadata": {
    "colab": {
     "base_uri": "https://localhost:8080/",
     "height": 512
    },
    "id": "oNcpR4BADiLU",
    "outputId": "a07ed04d-f2fb-47e1-c3ea-04e72d41b07a",
    "scrolled": true
   },
   "outputs": [
    {
     "name": "stdout",
     "output_type": "stream",
     "text": [
      "Epoch 1/20\n",
      "1406/1406 [==============================] - ETA: 0s - loss: 1.9777\n",
      " mean perplexity: 4.951012431066432 \n",
      "\n",
      "Saved new model!\n",
      "1406/1406 [==============================] - 1397s 992ms/step - loss: 1.9777\n",
      "Epoch 2/20\n",
      "1406/1406 [==============================] - ETA: 0s - loss: 1.5071\n",
      " mean perplexity: 4.48111360738058 \n",
      "\n",
      "Saved new model!\n",
      "1406/1406 [==============================] - 1440s 1s/step - loss: 1.5071\n",
      "Epoch 3/20\n",
      "1406/1406 [==============================] - ETA: 0s - loss: 1.3999\n",
      " mean perplexity: 4.417849698701211 \n",
      "\n",
      "Saved new model!\n",
      "1406/1406 [==============================] - 1468s 1s/step - loss: 1.3999\n",
      "Epoch 4/20\n",
      "1406/1406 [==============================] - ETA: 0s - loss: 1.3545\n",
      " mean perplexity: 4.33159249344262 \n",
      "\n",
      "Saved new model!\n",
      "1406/1406 [==============================] - 1479s 1s/step - loss: 1.3545\n",
      "Epoch 5/20\n",
      "1406/1406 [==============================] - ETA: 0s - loss: 1.3288\n",
      " mean perplexity: 4.31602154582846 \n",
      "\n",
      "Saved new model!\n",
      "1406/1406 [==============================] - 1530s 1s/step - loss: 1.3288\n",
      "Epoch 6/20\n",
      "1406/1406 [==============================] - ETA: 0s - loss: 1.3114\n",
      " mean perplexity: 4.478476357657299 \n",
      "\n",
      "1406/1406 [==============================] - 1513s 1s/step - loss: 1.3114\n",
      "Epoch 7/20\n",
      "1406/1406 [==============================] - ETA: 0s - loss: 1.2981\n",
      " mean perplexity: 4.663292411967002 \n",
      "\n",
      "1406/1406 [==============================] - 1548s 1s/step - loss: 1.2981\n",
      "Epoch 8/20\n",
      "1406/1406 [==============================] - ETA: 0s - loss: 1.2876\n",
      " mean perplexity: 4.530897941692936 \n",
      "\n",
      "1406/1406 [==============================] - 1577s 1s/step - loss: 1.2876\n",
      "Epoch 9/20\n",
      "1406/1406 [==============================] - ETA: 0s - loss: 1.2791\n",
      " mean perplexity: 4.306726676257628 \n",
      "\n",
      "Saved new model!\n",
      "1406/1406 [==============================] - 1600s 1s/step - loss: 1.2791\n",
      "Epoch 10/20\n",
      "1406/1406 [==============================] - ETA: 0s - loss: 1.2720\n",
      " mean perplexity: 4.273563429046872 \n",
      "\n",
      "Saved new model!\n",
      "1406/1406 [==============================] - 1629s 1s/step - loss: 1.2720\n",
      "Epoch 11/20\n",
      "1406/1406 [==============================] - ETA: 0s - loss: 1.2655\n",
      " mean perplexity: 4.285623857377091 \n",
      "\n",
      "1406/1406 [==============================] - 1650s 1s/step - loss: 1.2655\n",
      "Epoch 12/20\n",
      "1406/1406 [==============================] - ETA: 0s - loss: 1.2603\n",
      " mean perplexity: 4.205802076294128 \n",
      "\n",
      "Saved new model!\n",
      "1406/1406 [==============================] - 1728s 1s/step - loss: 1.2603\n",
      "Epoch 13/20\n",
      "1406/1406 [==============================] - ETA: 0s - loss: 1.2555\n",
      " mean perplexity: 4.184299312573474 \n",
      "\n",
      "Saved new model!\n",
      "1406/1406 [==============================] - 1772s 1s/step - loss: 1.2555\n",
      "Epoch 14/20\n",
      "1406/1406 [==============================] - ETA: 0s - loss: 1.2515\n",
      " mean perplexity: 4.243370878013628 \n",
      "\n",
      "1406/1406 [==============================] - 1834s 1s/step - loss: 1.2515\n",
      "Epoch 15/20\n",
      "1406/1406 [==============================] - ETA: 0s - loss: 1.2479\n",
      " mean perplexity: 4.15033574365739 \n",
      "\n",
      "Saved new model!\n",
      "1406/1406 [==============================] - 1871s 1s/step - loss: 1.2479\n",
      "Epoch 16/20\n",
      "1406/1406 [==============================] - ETA: 0s - loss: 1.2443\n",
      " mean perplexity: 4.104367431574752 \n",
      "\n",
      "Saved new model!\n",
      "1406/1406 [==============================] - 1914s 1s/step - loss: 1.2443\n",
      "Epoch 17/20\n",
      "1406/1406 [==============================] - ETA: 0s - loss: 1.2413\n",
      " mean perplexity: 4.101147743132528 \n",
      "\n",
      "Saved new model!\n",
      "1406/1406 [==============================] - 1924s 1s/step - loss: 1.2413\n",
      "Epoch 18/20\n",
      "1406/1406 [==============================] - ETA: 0s - loss: 1.2384\n",
      " mean perplexity: 4.057654797443615 \n",
      "\n",
      "Saved new model!\n",
      "1406/1406 [==============================] - 1907s 1s/step - loss: 1.2384\n",
      "Epoch 19/20\n",
      "1406/1406 [==============================] - ETA: 0s - loss: 1.2359\n",
      " mean perplexity: 4.084129069899748 \n",
      "\n",
      "1406/1406 [==============================] - 1913s 1s/step - loss: 1.2359\n",
      "Epoch 20/20\n",
      "1406/1406 [==============================] - ETA: 0s - loss: 1.2336\n",
      " mean perplexity: 4.055499977065488 \n",
      "\n",
      "Saved new model!\n",
      "1406/1406 [==============================] - 2007s 1s/step - loss: 1.2336\n"
     ]
    }
   ],
   "source": [
    "history_gru_ppl = []\n",
    "gru_model_file = 'gru_model.keras'\n",
    "\n",
    "hist = gru_model.fit(X, y, epochs=20, callbacks=[PplCallback(tokenized_sentences_val, history_gru_ppl, model_file=gru_model_file)], batch_size=256)"
   ]
  },
  {
   "cell_type": "code",
   "execution_count": 28,
   "metadata": {
    "colab": {
     "base_uri": "https://localhost:8080/",
     "height": 431
    },
    "id": "oVF0RGhJyZIG",
    "outputId": "e9f74688-9894-4f9d-b011-bcec98cf9abf"
   },
   "outputs": [
    {
     "data": {
      "image/png": "[encoded data removed]",
      "text/plain": [
       "<Figure size 432x288 with 1 Axes>"
      ]
     },
     "metadata": {
      "needs_background": "light"
     },
     "output_type": "display_data"
    }
   ],
   "source": [
    "epoch_count = range(1, len(history_gru_ppl) + 1)\n",
    "sns.lineplot(x=epoch_count,  y=history_gru_ppl)\n",
    "plt.show()"
   ]
  },
  {
   "cell_type": "code",
   "execution_count": 29,
   "metadata": {
    "id": "8vWeoiGjJHjr"
   },
   "outputs": [],
   "source": [
    "save = {\n",
    "    'ppl': history_gru_ppl,\n",
    "    'char2idx': char2idx,\n",
    "    'idx2char': idx2char\n",
    "}\n",
    "\n",
    "with open('gru.pkl', 'wb') as f:\n",
    "    pickle.dump(save, f)"
   ]
  },
  {
   "cell_type": "markdown",
   "metadata": {
    "id": "EktPY-j2yZIG"
   },
   "source": [
    "### Comparación de perplejidad entre modelos"
   ]
  },
  {
   "cell_type": "code",
   "execution_count": 31,
   "metadata": {},
   "outputs": [],
   "source": [
    "# Cargo los datos guardados durante el entrenamiento\n",
    "\n",
    "srnn = []\n",
    "with open('srnn.pkl', 'rb') as file:\n",
    "    srnn = pickle.load(file)\n",
    "    \n",
    "lstm = []\n",
    "with open('lstm.pkl', 'rb') as file:\n",
    "    lstm = pickle.load(file)\n",
    "\n",
    "gru = []\n",
    "with open('gru.pkl', 'rb') as file:\n",
    "    gru = pickle.load(file)"
   ]
  },
  {
   "cell_type": "code",
   "execution_count": 39,
   "metadata": {
    "colab": {
     "base_uri": "https://localhost:8080/",
     "height": 482
    },
    "id": "FmkC4Fw_yZIH",
    "outputId": "44e2095a-5f49-4b32-bfdd-aa3e9f0de16a"
   },
   "outputs": [
    {
     "data": {
      "text/plain": [
       "<matplotlib.legend.Legend at 0x2073caaee60>"
      ]
     },
     "execution_count": 39,
     "metadata": {},
     "output_type": "execute_result"
    },
    {
     "data": {
      "image/png": "[encoded data removed]",
      "text/plain": [
       "<Figure size 1008x432 with 1 Axes>"
      ]
     },
     "metadata": {
      "needs_background": "light"
     },
     "output_type": "display_data"
    }
   ],
   "source": [
    "\n",
    "plt.figure(figsize=(14,6))\n",
    "plt.plot(range(1, len(srnn['ppl']) + 1), srnn['ppl'], label='srnn')\n",
    "plt.plot(range(1, len(lstm['ppl']) + 1), lstm['ppl'], label='lstm')\n",
    "plt.plot(range(1, len(gru['ppl']) + 1), gru['ppl'], label='gru')\n",
    "\n",
    "plt.ylim(4, 6.5)\n",
    "plt.grid()\n",
    "plt.xlabel('epoch')\n",
    "plt.ylabel('perpexity')\n",
    "\n",
    "plt.legend()"
   ]
  },
  {
   "cell_type": "markdown",
   "metadata": {
    "id": "GuM7jEHW1yQN"
   },
   "source": [
    "En los gráficos de la métrica de perplexity se observa que los modelos Simple RNN y GRU, mantuvieron una tendencia a la baja, en el caso de Simple RNN el entrenamiento termino antes por cumplirse la condición de early stopping (5 epochs sin mejorar la métrica), mientras que el entrenamiento de GRU finalizo al cumplirse las epochs estipuladas. En el caso del entrenamiento del modelo LSTM, en un principio el modelo mejoro su métrica de perplexity pero luego esta comenzó a subir demasiado, el entrenamiento también finalizo al cumplirse la condición de early stopping.  \n",
    "\n",
    "Según la métrica el mejor modelo debería ser el GRU.   \n"
   ]
  },
  {
   "cell_type": "markdown",
   "metadata": {
    "id": "mCeMWWupxN1-"
   },
   "source": [
    "### Generación de secuencias"
   ]
  },
  {
   "cell_type": "code",
   "execution_count": 55,
   "metadata": {
    "id": "bwbS_pfhxvB3"
   },
   "outputs": [],
   "source": [
    "def generate_seq(model, seed_text, max_length, n_words, char2idx):\n",
    "    \"\"\"\n",
    "        Exec model sequence prediction\n",
    "\n",
    "        Args:\n",
    "            model (keras): modelo entrenado\n",
    "            seed_text (string): texto de entrada (input_seq)\n",
    "            max_length (int): máxima longitud de la sequencia de entrada\n",
    "            n_words (int): números de caracteres a agregar a la sequencia de entrada\n",
    "        returns:\n",
    "            output_text (string): sentencia con las \"n_words\" agregadas\n",
    "    \"\"\"\n",
    "    idx2char = {v: k for k,v in char2idx.items()}\n",
    "    \n",
    "    output_text = seed_text\n",
    "\t# generate a fixed number of words\n",
    "    for _ in range(n_words):\n",
    "\t\t# Encodeamos\n",
    "        encoded = [char2idx[ch] for ch in output_text.lower() ]\n",
    "\t\t# Si tienen distinto largo\n",
    "        encoded = pad_sequences([encoded], maxlen=max_length, padding='pre')\n",
    "\n",
    "\t\t# Predicción softmax\n",
    "        y_hat = np.argmax(model.predict(encoded,verbose=0)[0,-1,:])\n",
    "\t\t# Vamos concatenando las predicciones\n",
    "        out_word = ''\n",
    "\n",
    "        out_word = idx2char[y_hat]\n",
    "\n",
    "\t\t# Agrego las palabras a la frase predicha\n",
    "        output_text += out_word\n",
    "    return output_text"
   ]
  },
  {
   "cell_type": "code",
   "execution_count": 77,
   "metadata": {
    "colab": {
     "base_uri": "https://localhost:8080/"
    },
    "id": "Rhy5hZN38qfO",
    "outputId": "1030434d-701a-42e1-b2be-5334711688fd"
   },
   "outputs": [],
   "source": [
    "# Cargamos el mejor modelo guardado del entrenamiento para hacer inferencia\n",
    "srnn_model = keras.models.load_model('srnn_model.keras')\n",
    "lstm_model = keras.models.load_model('lstm_model.keras')\n",
    "gru_model = keras.models.load_model('gru_model.keras')\n",
    "\n",
    "\n",
    "# Tambien cargo el diccionario con la relacion de char2idx de cada uno de los modelos\n",
    "srnn = []\n",
    "with open('srnn.pkl', 'rb') as file:\n",
    "    srnn = pickle.load(file)\n",
    "    \n",
    "lstm = []\n",
    "with open('lstm.pkl', 'rb') as file:\n",
    "    lstm = pickle.load(file)\n",
    "\n",
    "gru = []\n",
    "with open('gru.pkl', 'rb') as file:\n",
    "    gru = pickle.load(file)\n"
   ]
  },
  {
   "cell_type": "code",
   "execution_count": 78,
   "metadata": {},
   "outputs": [],
   "source": [
    "# Defino distintos input_text para comparar resultados\n",
    "input_text = ['el anillo', 'la comunidad', 'gandalf dijo', 'el poder de sauron', 'el hobbit hizo']"
   ]
  },
  {
   "cell_type": "code",
   "execution_count": 83,
   "metadata": {},
   "outputs": [
    {
     "name": "stdout",
     "output_type": "stream",
     "text": [
      "el anillo de la comarca y la casa de la comarca y la casa d\n",
      "la comunidad de la comarca y la casa de la comarca y la casa d\n",
      "gandalf dijo frodo se descubrieron a la casa de la comarca y l\n",
      "el poder de sauron la casa de la comarca y la casa de la comarca y l\n",
      "el hobbit hizo de la comarca y la casa de la comarca y la casa d\n"
     ]
    }
   ],
   "source": [
    "# Resultado con el modelo Simple RNN\n",
    "srnn_results = []\n",
    "for input in input_text:\n",
    "    result = generate_seq(srnn_model, input, max_length=max_context_size, n_words=50, char2idx=srnn['char2idx'])\n",
    "    print(result)\n",
    "    srnn_results.append(result)"
   ]
  },
  {
   "cell_type": "code",
   "execution_count": 84,
   "metadata": {},
   "outputs": [
    {
     "name": "stdout",
     "output_type": "stream",
     "text": [
      "el anillos de los hobbits se habían preguntar a la comarca \n",
      "la comunidad de la comarca y la comarca y la comarca y la coma\n",
      "gandalf dijo el camino de la comarca y la comarca y la comarca\n",
      "el poder de sauron las cosas de la comarca y la comarca y la comarca\n",
      "el hobbit hizo una casa de la comarca y la comarca y la comarca \n"
     ]
    }
   ],
   "source": [
    "# Resultado con el modelo LSTM\n",
    "lstm_results = []\n",
    "for input in input_text:\n",
    "    result = generate_seq(lstm_model, input, max_length=max_context_size, n_words=50, char2idx=lstm['char2idx'])\n",
    "    print(result)\n",
    "    lstm_results.append(result)"
   ]
  },
  {
   "cell_type": "code",
   "execution_count": 87,
   "metadata": {},
   "outputs": [
    {
     "name": "stdout",
     "output_type": "stream",
     "text": [
      "el anillo era un poco más allá de la comarca y la casa de l\n",
      "la comunidad de la comarca se había aparecido a la comarca y l\n",
      "gandalf dijo frodo—. no podría decir que el anillo en la comar\n",
      "el poder de sauron los hobbits se acostaban a la comarca y la casa d\n",
      "el hobbit hizo un poco de la comarca y la casa de la comarca y l\n"
     ]
    }
   ],
   "source": [
    "# Resultado con el modelo GRU\n",
    "gru_results = []\n",
    "for input in input_text:\n",
    "    result = generate_seq(gru_model, input, max_length=max_context_size, n_words=50, char2idx=gru['char2idx'])\n",
    "    print(result)\n",
    "    gru_results.append(result)"
   ]
  },
  {
   "cell_type": "code",
   "execution_count": 89,
   "metadata": {},
   "outputs": [
    {
     "name": "stdout",
     "output_type": "stream",
     "text": [
      "los elfos son el anillo en la comarca y la casa de la comarca y\n",
      "los hobbit son el anillo en la comarca y la casa de la comarca y\n",
      "los enanos son el señor bilbo era un poco de la comarca y la cas\n",
      "saruman era un poco de la comarca y la casa de la comarca y la\n",
      "sauron era un poco de la comarca y la casa de la comarca y l\n",
      "entonces dijo frodo—. no podría decir que el anillo en la comar\n"
     ]
    }
   ],
   "source": [
    "# ALgunos otras pruebas con el modelo GRU\n",
    "input_text = ['los elfos son', 'los hobbit son', 'los enanos son','saruman era ','sauron era', 'entonces dijo']\n",
    "gru_results = []\n",
    "for input in input_text:\n",
    "    result = generate_seq(gru_model, input, max_length=max_context_size, n_words=50, char2idx=gru['char2idx'])\n",
    "    print(result)\n",
    "    gru_results.append(result)"
   ]
  },
  {
   "cell_type": "markdown",
   "metadata": {},
   "source": [
    "En todos los casos se puede apreciar que los modelos aprendieron a armar palabras a partir de los caracteres y que en general tienen sentido gramatical. Por otro lado, también se nota que en todos los modelos, el texto generado converge de cierta forma a la frase “la comarca y la casa de la comarca y …”. Al pasar en todos los modelos podría pensarse que es algo del dataset que se utilizo para el entrenamiento."
   ]
  },
  {
   "cell_type": "markdown",
   "metadata": {
    "id": "drJ6xn5qW1Hl"
   },
   "source": [
    "###  Beam search y muestreo aleatorio"
   ]
  },
  {
   "cell_type": "code",
   "execution_count": 65,
   "metadata": {
    "id": "_vovn9XZW1Hl"
   },
   "outputs": [],
   "source": [
    "# funcionalidades para hacer encoding y decoding\n",
    "def encode(text, max_length=max_context_size, char2idx={}):\n",
    "    \n",
    "    encoded = [char2idx[ch] for ch in text]\n",
    "    encoded = pad_sequences([encoded], maxlen=max_length, padding='pre')\n",
    "\n",
    "    return encoded\n",
    "\n",
    "def decode(seq, char2idx={}):\n",
    "    \n",
    "    idx2char = {v: k for k,v in char2idx.items()}\n",
    "    \n",
    "    return ''.join([idx2char[ch] for ch in seq])"
   ]
  },
  {
   "cell_type": "code",
   "execution_count": 70,
   "metadata": {
    "id": "I_lZiQwkW1Hl"
   },
   "outputs": [],
   "source": [
    "from scipy.special import softmax\n",
    "\n",
    "# función que selecciona candidatos para el beam search\n",
    "def select_candidates(pred,num_beams,vocab_size,history_probs,history_tokens,temp,mode):\n",
    "\n",
    "  # colectar todas las probabilidades para la siguiente búsqueda\n",
    "  pred_large = []\n",
    "\n",
    "  for idx,pp in enumerate(pred):\n",
    "    pred_large.extend(np.log(pp+1E-10)+history_probs[idx])\n",
    "\n",
    "  pred_large = np.array(pred_large)\n",
    "\n",
    "  # criterio de selección\n",
    "  if mode == 'det':\n",
    "    idx_select = np.argsort(pred_large)[::-1][:num_beams] # beam search determinista\n",
    "  elif mode == 'sto':\n",
    "    idx_select = np.random.choice(np.arange(pred_large.shape[0]), num_beams, p=softmax(pred_large/temp)) # beam search con muestreo aleatorio\n",
    "  else:\n",
    "    raise ValueError(f'Wrong selection mode. {mode} was given. det and sto are supported.')\n",
    "\n",
    "  # traducir a índices de token en el vocabulario\n",
    "  new_history_tokens = np.concatenate((np.array(history_tokens)[idx_select//vocab_size],\n",
    "                        np.array([idx_select%vocab_size]).T),\n",
    "                      axis=1)\n",
    "\n",
    "  # devolver el producto de las probabilidades (log) y la secuencia de tokens seleccionados\n",
    "  return pred_large[idx_select.astype(int)], new_history_tokens.astype(int)\n",
    "\n",
    "\n",
    "def beam_search(model,num_beams,num_words,input,temp=1,mode='det', char2idx={}):\n",
    "\n",
    "    # first iteration\n",
    "\n",
    "    # encode\n",
    "    encoded = encode(input, max_context_size, char2idx)\n",
    "\n",
    "    # first prediction\n",
    "    y_hat = model.predict(encoded,verbose=0)[0,-1,:]\n",
    "\n",
    "    # get vocabulary size\n",
    "    vocab_size = y_hat.shape[0]\n",
    "\n",
    "    # initialize history\n",
    "    history_probs = [0]*num_beams\n",
    "    history_tokens = [encoded[0]]*num_beams\n",
    "\n",
    "    # select num_beams candidates\n",
    "    history_probs, history_tokens = select_candidates([y_hat],\n",
    "                                        num_beams,\n",
    "                                        vocab_size,\n",
    "                                        history_probs,\n",
    "                                        history_tokens,\n",
    "                                        temp,\n",
    "                                        mode)\n",
    "\n",
    "    # beam search loop\n",
    "    for i in range(num_words-1):\n",
    "\n",
    "      preds = []\n",
    "\n",
    "      for hist in history_tokens:\n",
    "\n",
    "        # actualizar secuencia de tokens\n",
    "        input_update = np.array([hist[i+1:]]).copy()\n",
    "\n",
    "        # predicción\n",
    "        y_hat = model.predict(input_update,verbose=0)[0,-1,:]\n",
    "\n",
    "        preds.append(y_hat)\n",
    "\n",
    "      history_probs, history_tokens = select_candidates(preds,\n",
    "                                                        num_beams,\n",
    "                                                        vocab_size,\n",
    "                                                        history_probs,\n",
    "                                                        history_tokens,\n",
    "                                                        temp,\n",
    "                                                        mode)\n",
    "\n",
    "    return history_tokens[:,-(len(input)+num_words):]"
   ]
  },
  {
   "cell_type": "markdown",
   "metadata": {},
   "source": [
    "#### Beam Search determinístico"
   ]
  },
  {
   "cell_type": "code",
   "execution_count": 94,
   "metadata": {},
   "outputs": [],
   "source": [
    "# Para los siguentes input de texto genero una secuencia con todos los modelos utilizando beam_search, \n",
    "# cambiando la temperatura para probar si se vuelve mas creativo \n",
    "input_text = ['el anillo', 'la comunidad', 'gandalf dijo', 'el poder de sauron', 'el hobbit hizo']"
   ]
  },
  {
   "cell_type": "markdown",
   "metadata": {},
   "source": [
    "Prueba con temperatura 1"
   ]
  },
  {
   "cell_type": "code",
   "execution_count": 96,
   "metadata": {},
   "outputs": [
    {
     "name": "stdout",
     "output_type": "stream",
     "text": [
      "el anillo de la comarca de la comarca de la comarca de la c\n",
      "la comunidad de los hobbits de los hobbits sobre la comarca y \n",
      "gandalf dijo frodo—. pero no había parecía que los hobbits se \n",
      "el poder de sauron los hobbits de los hobbits sobre la comarca de la\n",
      "el hobbit hizo más allá de la comarca de la comarca de la comarc\n"
     ]
    }
   ],
   "source": [
    "for input in input_text:\n",
    "    result = beam_search(srnn_model, num_beams=10, num_words=50, input=input, temp=1, char2idx=srnn['char2idx'])\n",
    "    print(decode(result[0], char2idx=srnn['char2idx']))"
   ]
  },
  {
   "cell_type": "code",
   "execution_count": 97,
   "metadata": {},
   "outputs": [
    {
     "name": "stdout",
     "output_type": "stream",
     "text": [
      "el anillos de los hobbits se levantaron en la comarca, pero\n",
      "la comunidad de los hobbits se levantaron en la comarca, pero \n",
      "gandalf dijo que los hobbits se encontraban en la comarca de l\n",
      "el poder de sauron de la comarca. los hobbits se levantaron en la co\n",
      "el hobbit hizo más allá de la comarca de la comarca de la comarc\n"
     ]
    }
   ],
   "source": [
    "for input in input_text:\n",
    "    result = beam_search(lstm_model, num_beams=10, num_words=50, input=input, temp=1, char2idx=lstm['char2idx'])\n",
    "    print(decode(result[0], char2idx=lstm['char2idx']))"
   ]
  },
  {
   "cell_type": "code",
   "execution_count": 95,
   "metadata": {},
   "outputs": [
    {
     "name": "stdout",
     "output_type": "stream",
     "text": [
      "el anillo de los hobbits se encontraban a la luz de la coma\n",
      "la comunidad de los hobbits se encontraban a la luz de la coma\n",
      "gandalf dijo frodo—. pero los hobbits se encontraban a los hob\n",
      "el poder de sauron los hobbits se encontraban a la luz de la comarca\n",
      "el hobbit hizo más allá de la comarca. los hobbits se encontraba\n"
     ]
    }
   ],
   "source": [
    "for input in input_text:\n",
    "    result = beam_search(gru_model, num_beams=10, num_words=50, input=input, temp=1, char2idx=gru['char2idx'])\n",
    "    print(decode(result[0], char2idx=gru['char2idx']))"
   ]
  },
  {
   "cell_type": "markdown",
   "metadata": {},
   "source": [
    "Prueba con temperatura 10"
   ]
  },
  {
   "cell_type": "code",
   "execution_count": 99,
   "metadata": {},
   "outputs": [],
   "source": [
    "temp = 10"
   ]
  },
  {
   "cell_type": "code",
   "execution_count": 100,
   "metadata": {},
   "outputs": [
    {
     "name": "stdout",
     "output_type": "stream",
     "text": [
      "el anillo de la comarca de la comarca de la comarca de la c\n",
      "la comunidad de los hobbits de los hobbits sobre la comarca y \n",
      "gandalf dijo frodo—. pero no había parecía que los hobbits se \n",
      "el poder de sauron los hobbits de los hobbits sobre la comarca de la\n",
      "el hobbit hizo más allá de la comarca de la comarca de la comarc\n"
     ]
    }
   ],
   "source": [
    "for input in input_text:\n",
    "    result = beam_search(srnn_model, num_beams=10, num_words=50, input=input, temp=temp, char2idx=srnn['char2idx'])\n",
    "    print(decode(result[0], char2idx=srnn['char2idx']))"
   ]
  },
  {
   "cell_type": "code",
   "execution_count": 101,
   "metadata": {},
   "outputs": [
    {
     "name": "stdout",
     "output_type": "stream",
     "text": [
      "el anillos de los hobbits se levantaron en la comarca, pero\n",
      "la comunidad de los hobbits se levantaron en la comarca, pero \n",
      "gandalf dijo que los hobbits se encontraban en la comarca de l\n",
      "el poder de sauron de la comarca. los hobbits se levantaron en la co\n",
      "el hobbit hizo más allá de la comarca de la comarca de la comarc\n"
     ]
    }
   ],
   "source": [
    "for input in input_text:\n",
    "    result = beam_search(lstm_model, num_beams=10, num_words=50, input=input, temp=temp, char2idx=lstm['char2idx'])\n",
    "    print(decode(result[0], char2idx=lstm['char2idx']))"
   ]
  },
  {
   "cell_type": "code",
   "execution_count": 102,
   "metadata": {},
   "outputs": [
    {
     "name": "stdout",
     "output_type": "stream",
     "text": [
      "el anillo de los hobbits se encontraban a la luz de la coma\n",
      "la comunidad de los hobbits se encontraban a la luz de la coma\n",
      "gandalf dijo frodo—. pero los hobbits se encontraban a los hob\n",
      "el poder de sauron los hobbits se encontraban a la luz de la comarca\n",
      "el hobbit hizo más allá de la comarca. los hobbits se encontraba\n"
     ]
    }
   ],
   "source": [
    "for input in input_text:\n",
    "    result = beam_search(gru_model, num_beams=10, num_words=50, input=input, temp=temp, char2idx=gru['char2idx'])\n",
    "    print(decode(result[0], char2idx=gru['char2idx']))"
   ]
  },
  {
   "cell_type": "markdown",
   "metadata": {},
   "source": [
    "Prueba con temperatura 100"
   ]
  },
  {
   "cell_type": "code",
   "execution_count": 103,
   "metadata": {},
   "outputs": [],
   "source": [
    "temp = 100"
   ]
  },
  {
   "cell_type": "code",
   "execution_count": 104,
   "metadata": {},
   "outputs": [
    {
     "name": "stdout",
     "output_type": "stream",
     "text": [
      "el anillo de la comarca de la comarca de la comarca de la c\n",
      "la comunidad de los hobbits de los hobbits sobre la comarca y \n",
      "gandalf dijo frodo—. pero no había parecía que los hobbits se \n",
      "el poder de sauron los hobbits de los hobbits sobre la comarca de la\n",
      "el hobbit hizo más allá de la comarca de la comarca de la comarc\n"
     ]
    }
   ],
   "source": [
    "for input in input_text:\n",
    "    result = beam_search(srnn_model, num_beams=10, num_words=50, input=input, temp=temp, char2idx=srnn['char2idx'])\n",
    "    print(decode(result[0], char2idx=srnn['char2idx']))"
   ]
  },
  {
   "cell_type": "code",
   "execution_count": 105,
   "metadata": {},
   "outputs": [
    {
     "name": "stdout",
     "output_type": "stream",
     "text": [
      "el anillos de los hobbits se levantaron en la comarca, pero\n",
      "la comunidad de los hobbits se levantaron en la comarca, pero \n",
      "gandalf dijo que los hobbits se encontraban en la comarca de l\n",
      "el poder de sauron de la comarca. los hobbits se levantaron en la co\n",
      "el hobbit hizo más allá de la comarca de la comarca de la comarc\n"
     ]
    }
   ],
   "source": [
    "for input in input_text:\n",
    "    result = beam_search(lstm_model, num_beams=10, num_words=50, input=input, temp=temp, char2idx=lstm['char2idx'])\n",
    "    print(decode(result[0], char2idx=lstm['char2idx']))"
   ]
  },
  {
   "cell_type": "code",
   "execution_count": 106,
   "metadata": {},
   "outputs": [
    {
     "name": "stdout",
     "output_type": "stream",
     "text": [
      "el anillo de los hobbits se encontraban a la luz de la coma\n",
      "la comunidad de los hobbits se encontraban a la luz de la coma\n",
      "gandalf dijo frodo—. pero los hobbits se encontraban a los hob\n",
      "el poder de sauron los hobbits se encontraban a la luz de la comarca\n",
      "el hobbit hizo más allá de la comarca. los hobbits se encontraba\n"
     ]
    }
   ],
   "source": [
    "for input in input_text:\n",
    "    result = beam_search(gru_model, num_beams=10, num_words=50, input=input, temp=temp, char2idx=gru['char2idx'])\n",
    "    print(decode(result[0], char2idx=gru['char2idx']))"
   ]
  },
  {
   "cell_type": "markdown",
   "metadata": {},
   "source": [
    "#### Beam Search estocástico"
   ]
  },
  {
   "cell_type": "markdown",
   "metadata": {},
   "source": [
    "Prueba con temperatura 1"
   ]
  },
  {
   "cell_type": "code",
   "execution_count": 107,
   "metadata": {},
   "outputs": [],
   "source": [
    "temp = 1"
   ]
  },
  {
   "cell_type": "code",
   "execution_count": 108,
   "metadata": {},
   "outputs": [
    {
     "name": "stdout",
     "output_type": "stream",
     "text": [
      "el anillo para ellos de la comarca y las colinas y el viejo\n",
      "la comunidad de la comarca de la comarca. las colinas de canci\n",
      "gandalf dijo frodo—. no había tiempo al fin de la comarca y el\n",
      "el poder de sauron la casa de la comarca y no había pareció en la ha\n",
      "el hobbit hizo una parte de la comarca y las colinas de la comar\n"
     ]
    }
   ],
   "source": [
    "for input in input_text:\n",
    "    result = beam_search(srnn_model, num_beams=10, num_words=50, input=input, temp=temp, mode='sto', char2idx=srnn['char2idx'])\n",
    "    print(decode(result[0], char2idx=srnn['char2idx']))"
   ]
  },
  {
   "cell_type": "code",
   "execution_count": 109,
   "metadata": {},
   "outputs": [
    {
     "name": "stdout",
     "output_type": "stream",
     "text": [
      "el anillos de los hobbits estaban los hobbits se habían pue\n",
      "la comunidad por los bosques de los elfos, pero los hobbits cl\n",
      "gandalf dijo gandalf se levantó a los hobbits se habían cerca \n",
      "el poder de sauron las tierras de los árboles y los hobbits se había\n",
      "el hobbit hizo una canción de los hobbits se habían pasado con l\n"
     ]
    }
   ],
   "source": [
    "for input in input_text:\n",
    "    result = beam_search(lstm_model, num_beams=10, num_words=50, input=input, temp=temp, mode='sto', char2idx=lstm['char2idx'])\n",
    "    print(decode(result[0], char2idx=lstm['char2idx']))"
   ]
  },
  {
   "cell_type": "code",
   "execution_count": 110,
   "metadata": {},
   "outputs": [
    {
     "name": "stdout",
     "output_type": "stream",
     "text": [
      "el anillo era un bosque viejo hombre-sauce. se encontraba e\n",
      "la comunidad de la comarca, señor frodo —dijo frodo—. pero lo \n",
      "gandalf dijo frodo—. ¡no te preguntos! —dijo frodo—. estaba el\n",
      "el poder de sauron los hobbits se encontraban a los hobbits de los s\n",
      "el hobbit hizo un poco más allá de la comarca, aunque había un a\n"
     ]
    }
   ],
   "source": [
    "for input in input_text:\n",
    "    result = beam_search(gru_model, num_beams=10, num_words=50, input=input, temp=temp, mode='sto', char2idx=gru['char2idx'])\n",
    "    print(decode(result[0], char2idx=gru['char2idx']))"
   ]
  },
  {
   "cell_type": "markdown",
   "metadata": {},
   "source": [
    "Al utilizar beam search estocástico se puede apreciar que los modelos genera textos con una mayor variabilidad, no convergen a la frase “la comarca y la casa de la comarca y …”. Esto se nota en particualar en los modelos LSTM y GRU, en el Simple RNN todavía tiente a generar la palabra \"comarca\".    "
   ]
  },
  {
   "cell_type": "markdown",
   "metadata": {},
   "source": [
    "Prueba con temperatura 10"
   ]
  },
  {
   "cell_type": "code",
   "execution_count": 111,
   "metadata": {},
   "outputs": [],
   "source": [
    "temp = 10"
   ]
  },
  {
   "cell_type": "code",
   "execution_count": 112,
   "metadata": {},
   "outputs": [
    {
     "name": "stdout",
     "output_type": "stream",
     "text": [
      "el anillo,plgoiru \" bijabalá\"s cedtiniad qéibee.osalay!s¡a3\n",
      "la comunidad!t— ostbab; nadars—sistruldió.ma y—.ohpléo?;iglu.n\n",
      "gandalf dijo meraohidá,ptotó!pejazabfos ,lezoclaro muccalswolá\n",
      "el poder de sauron—»ca escadamepens ñay edfé,uarcc » nóteera \"elabne\n",
      "el hobbit hizor mií!—¿nrmás dá deñun::frreágrácebúó (opecea.bath\n"
     ]
    }
   ],
   "source": [
    "for input in input_text:\n",
    "    result = beam_search(srnn_model, num_beams=10, num_words=50, input=input, temp=temp, mode='sto', char2idx=srnn['char2idx'])\n",
    "    print(decode(result[0], char2idx=srnn['char2idx']))"
   ]
  },
  {
   "cell_type": "code",
   "execution_count": 113,
   "metadata": {},
   "outputs": [
    {
     "name": "stdout",
     "output_type": "stream",
     "text": [
      "el anillobe le9édarfte,e1m laíéf\": ¡fósgu?—dábo!».flciabaí \n",
      "la comunidad biéns me azrch?póhí. ciernlorso:céin.amí.¡ad?ma7!\n",
      "gandalf dijo.:—se salmacte)lo» ánpoli áihall.»\"ápodocrá íb \"po\n",
      "el poder de sauron; ¡upñarse,—¿verasá,tntéño és.ay, jeaed sómos—esgú\n",
      "el hobbit hizodad( la mimidío . lqudacdunes,.ilz ( luzúéhe.erí7,\n"
     ]
    }
   ],
   "source": [
    "for input in input_text:\n",
    "    result = beam_search(lstm_model, num_beams=10, num_words=50, input=input, temp=temp, mode='sto', char2idx=lstm['char2idx'])\n",
    "    print(decode(result[0], char2idx=lstm['char2idx']))"
   ]
  },
  {
   "cell_type": "code",
   "execution_count": 114,
   "metadata": {},
   "outputs": [
    {
     "name": "stdout",
     "output_type": "stream",
     "text": [
      "el anillo.»bahó mines.ocíd.apteatan—a7 (zú.t¡númuit dojó —c\n",
      "la comunidad.tupatem.!logmaótavzágal,n:pen.—¡auán lluí naz!lmv\n",
      "gandalf dijo sl; a divo!sol icéiñí\"»¡o. lumió ¡éq¿nuy anúm),pl\n",
      "el poder de sauronedcomor..duró vesa\",feclavío,m? neárxcé,s??ún.¡cy3\n",
      "el hobbit hizo eda misquil ciñatsi»ayorfír.dúshagogbromo,lmargo.\n"
     ]
    }
   ],
   "source": [
    "for input in input_text:\n",
    "    result = beam_search(gru_model, num_beams=10, num_words=50, input=input, temp=temp, mode='sto', char2idx=gru['char2idx'])\n",
    "    print(decode(result[0], char2idx=gru['char2idx']))"
   ]
  },
  {
   "cell_type": "markdown",
   "metadata": {},
   "source": [
    "Con un valor de temperatura de 10 los modelos no logran generar correctamente palabras  con los caracteres predichos "
   ]
  },
  {
   "cell_type": "markdown",
   "metadata": {},
   "source": [
    "Prueba con temperatura 3"
   ]
  },
  {
   "cell_type": "code",
   "execution_count": 117,
   "metadata": {},
   "outputs": [],
   "source": [
    "temp = 3"
   ]
  },
  {
   "cell_type": "code",
   "execution_count": 118,
   "metadata": {},
   "outputs": [
    {
     "name": "stdout",
     "output_type": "stream",
     "text": [
      "el anillo con la he vistía siempadas de toda pareció a la c\n",
      "la comunidad de una manoria, parecido de frodo. al hol año. pe\n",
      "gandalf dijo estar y los carces que para el nuego, detumba.amy\n",
      "el poder de sauron alridos. nami tenían malco a entaba los hobbits!l\n",
      "el hobbit hizo estaba dentrepir lo estas de piertas invisiecsodo\n"
     ]
    }
   ],
   "source": [
    "for input in input_text:\n",
    "    result = beam_search(srnn_model, num_beams=10, num_words=50, input=input, temp=temp, mode='sto', char2idx=srnn['char2idx'])\n",
    "    print(decode(result[0], char2idx=srnn['char2idx']))"
   ]
  },
  {
   "cell_type": "code",
   "execution_count": 119,
   "metadata": {},
   "outputs": [
    {
     "name": "stdout",
     "output_type": "stream",
     "text": [
      "el anillos del bosque vosotros se cincuaba por las plineses\n",
      "la comunidad todaía alamían prifecidas y en el año desde la tr\n",
      "gandalf dijo por en cieza encontrar boffin, sin embado supona,\n",
      "el poder de sauron de las hijas alentrar el aúmel dado hombros de mo\n",
      "el hobbit hizo y lo merad y recueña la lluvia después de la cori\n"
     ]
    }
   ],
   "source": [
    "for input in input_text:\n",
    "    result = beam_search(lstm_model, num_beams=10, num_words=50, input=input, temp=temp, mode='sto', char2idx=lstm['char2idx'])\n",
    "    print(decode(result[0], char2idx=lstm['char2idx']))"
   ]
  },
  {
   "cell_type": "code",
   "execution_count": 120,
   "metadata": {},
   "outputs": [
    {
     "name": "stdout",
     "output_type": "stream",
     "text": [
      "el anillo el terrenos muy pronto. de papeles, con especialt\n",
      "la comunidad, aceptaron con ellos.—¿qué queremos siete enconty\n",
      "gandalf dijo — ¡naventa el viejo pasado de bilbo dejó de los h\n",
      "el poder de sauron así ahora la cantana. las gentes retrastaron en f\n",
      "el hobbit hizo campo salieron de casi largas comarca que corresp\n"
     ]
    }
   ],
   "source": [
    "for input in input_text:\n",
    "    result = beam_search(gru_model, num_beams=10, num_words=50, input=input, temp=temp, mode='sto', char2idx=gru['char2idx'])\n",
    "    print(decode(result[0], char2idx=gru['char2idx']))"
   ]
  },
  {
   "cell_type": "markdown",
   "metadata": {},
   "source": [
    "### Conclusiones"
   ]
  },
  {
   "cell_type": "markdown",
   "metadata": {},
   "source": [
    "En este trabajo se entrenaron tres modelos del lenguaje basados en unidades recurrentes para generar texto. Como corpus se utilizó el libro “El Señor de los Anillos” y como términos se utilizaron los caracteres.\n",
    "\n",
    "Todos los modelos pudieron aprender la estructura de las palabras y cierta estructura gramatical a partir de los caracteres. El entrenamiento del modelo LSTM en un principio mejoro la métrica utilizada para evaluar y comparar los modelos (perplexity), aunque luego comenzó a divergir. Se podría probar realizar un nuevo entrenamiento para observar si se comporta nuevamente de la misma manera. \n",
    "\n",
    "Al momento del entrenamiento es fundamental no solo guardar los valores de los pesos de la red, sino también como se realizo la tokenizacion de los términos, en particular el diccionario con la relación entre carácter e id, ya que posteriormente es necesaria para realizar las inferencias. En un principio, supuse que la tokenización sería determinista y se mantendría consistente en diferentes ejecuciones del notebook. Sin embargo, los modelos entrenados no podían ser utilizados, ya que la relación entre los caracteres y los ids no coincidía con la que esperaba el modelo.\n",
    "\n",
    "Las inferencias realizadas por los modelos utilizando el método de greedy search mostraron resultados similares, en todos los casos la generación del texto convergía a la frase “la comarca y la casa de la comarca y …”. La utilización de beam search logro sacar a los modelos de este comportamiento, en particular al utilizar beam search estocástico. En este ultimo caso, al incrementar la temperatura, los modelos comenzaron a generar predicciones cuyas palabras carecían de sentido, con una temperatura mayor a 10 generaba palabras con caracteres aleatorios. Con una temperatura de 3, los textos generados presentaron palabras reales y otras inventadas, pero estas palabras inventadas tenían cierta cercanía con palabras reales.   \n"
   ]
  }
 ],
 "metadata": {
  "colab": {
   "provenance": []
  },
  "kernelspec": {
   "display_name": "Python 3 (ipykernel)",
   "language": "python",
   "name": "python3"
  },
  "language_info": {
   "codemirror_mode": {
    "name": "ipython",
    "version": 3
   },
   "file_extension": ".py",
   "mimetype": "text/x-python",
   "name": "python",
   "nbconvert_exporter": "python",
   "pygments_lexer": "ipython3",
   "version": "3.10.5"
  }
 },
 "nbformat": 4,
 "nbformat_minor": 1
}
